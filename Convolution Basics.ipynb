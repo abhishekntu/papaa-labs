{
 "cells": [
  {
   "cell_type": "markdown",
   "metadata": {},
   "source": [
    "# 2D Convolution\n",
    "\n",
    "Convolution operations form the backbone of most current deep learning frameworks. A good example of 2D convolution in practice is the Gaussian Filter that, when applied to an image, results in a blurring effect on the input. \n",
    "\n",
    "Original Image             |  After 2D convolution\n",
    ":------------------------- |:-------------------------\n",
    "![](donald_duck_in.bmp)    |  ![](donald_duck_out.bmp)\n",
    "\n",
    "From a computational perspective, this is an operation that multiplies a small $K$x$K$ constant 2D **kernel** with an $N$x$N$ input 2D **image**. This is done by moving the smaller kernel, one pixel at a time, over the $N$x$N$ image. We can visualize this as shown below. *Credit: https://github.com/vdumoulin/conv_arithmetic*\n",
    "\n",
    "![](full_padding_no_strides.gif)\n",
    "\n",
    "At this point, you might have questions about the exact starting position, the motion order, boundary conditions, etc. Those are all good questions, and to minimize complexity, we have simplified the operation to the code block show below. \n",
    "\n",
    "We first allocate storage for input images, output image. and the kernel."
   ]
  },
  {
   "cell_type": "code",
   "execution_count": 1,
   "metadata": {
    "collapsed": false
   },
   "outputs": [
    {
     "ename": "SyntaxError",
     "evalue": "invalid syntax (<ipython-input-1-d1a07ac17ab9>, line 7)",
     "output_type": "error",
     "traceback": [
      "\u001b[0;36m  File \u001b[0;32m\"<ipython-input-1-d1a07ac17ab9>\"\u001b[0;36m, line \u001b[0;32m7\u001b[0m\n\u001b[0;31m    using namespace cv;\u001b[0m\n\u001b[0m                  ^\u001b[0m\n\u001b[0;31mSyntaxError\u001b[0m\u001b[0;31m:\u001b[0m invalid syntax\n"
     ]
    }
   ],
   "source": [
    "#include <opencv2/imgproc/imgproc.hpp>\n",
    "#include <opencv2/highgui/highgui.hpp>\n",
    "#include <opencv2/opencv.hpp>\n",
    "#include <opencv2/core/core.hpp>\n",
    "#include <stdio.h>\n",
    "\n",
    "using namespace cv;\n",
    "using namespace std;\n",
    "\n",
    "// read the input image \n",
    "Mat input = imread(\"donald_duck_in.bmp\", IMREAD_GRAYSCALE);\n",
    "\n",
    "// create a sample 3x3 Guassian kernel\n",
    "Mat kernel = Mat::ones(3, 3, CV_32F)/9.0;\n",
    "        \n",
    "// allocate space for output maps\n",
    "Mat output = Mat::zeros(input.rows-kernel.rows+1, input.cols-kernel.cols+1, CV_32F);"
   ]
  },
  {
   "cell_type": "markdown",
   "metadata": {},
   "source": [
    "Now that the data-structures have been allocated, we can proceed to the core arithmetic components of convolution. Here the **convolve2D** method accepts input and output *Mat* object references. The OpenCV (computer vision) library provides the implementation for these objects that contain the 2D data structures to hold the images along with other metadata that is useful for file I/O and other tasks on the image."
   ]
  },
  {
   "cell_type": "code",
   "execution_count": null,
   "metadata": {
    "collapsed": true
   },
   "outputs": [],
   "source": [
    "#include <opencv2/imgproc/imgproc.hpp>\n",
    "#include <opencv2/opencv.hpp>\n",
    "#include <opencv2/core/core.hpp>\n",
    "\n",
    "using namespace cv;\n",
    "using namespace std;\n",
    "\n",
    "// 2D filter. This is simplified version of cv::filter2D\n",
    "void convolve2D(const Mat &input, Mat &output, const Mat &ker) {\n",
    "    \n",
    "    // loop over rows of the image (note the boundary condition)\n",
    "    for(int r = 0; r < input.rows - ker.rows + 1; r++) {\n",
    "        // loop over columns of the image\n",
    "        for(int c = 0; c < input.cols - ker.cols + 1; c++) {\n",
    "            \n",
    "            // inside here, we process each pixel\n",
    "            \n",
    "            // initialize output pixel to 0\n",
    "            output.at<float>(r,c) = 0;\n",
    "            \n",
    "            // loop over rows of the kernels\n",
    "            for(int i = 0; i < ker.rows; i++) {\n",
    "                // loop over columns of the kernel\n",
    "                for(int j = 0; j < ker.cols; j++) {\n",
    "                    // simple multiply-add and accumulate operation\n",
    "                    output.at<float>(r,c) += ker.at<float>(i, j) * input.at<float>(r+i, c+j);\n",
    "                }\n",
    "            }\n",
    "        }\n",
    "    }\n",
    "}"
   ]
  },
  {
   "cell_type": "markdown",
   "metadata": {},
   "source": [
    "We can the put this together with a top-level main() method that reads in the inputs and writes out the output while invoking the conolve2D function."
   ]
  },
  {
   "cell_type": "code",
   "execution_count": null,
   "metadata": {
    "collapsed": true
   },
   "outputs": [],
   "source": [
    "// sample main() method that runs the complete function\n",
    "int main() {\n",
    "\n",
    "    // read the input image \n",
    "    Mat input = imread(\"donald_duck_in.bmp\", IMREAD_GRAYSCALE);\n",
    "\n",
    "    // create a sample 3x3 Guassian kernel\n",
    "    Mat kernel = Mat::ones(3, 3, CV_32F)/9.0;\n",
    "        \n",
    "    // allocate space for output maps\n",
    "    Mat output = Mat::zeros(input.rows-kernel.rows+1, input.cols-kernel.cols+1, CV_32F);\n",
    "    convolve2D(input, output, kernel);\n",
    "\n",
    "    imwrite(\"donald_duck_out2.bmp\", IMREAD_GRAYSCALE);\n",
    "    return 0;\n",
    "}\n"
   ]
  }
 ],
 "metadata": {
  "kernelspec": {
   "display_name": "Python 3",
   "language": "python",
   "name": "python3"
  },
  "language_info": {
   "codemirror_mode": {
    "name": "ipython",
    "version": 3
   },
   "file_extension": ".py",
   "mimetype": "text/x-python",
   "name": "python",
   "nbconvert_exporter": "python",
   "pygments_lexer": "ipython3",
   "version": "3.5.1"
  }
 },
 "nbformat": 4,
 "nbformat_minor": 0
}
